{
  "nbformat": 4,
  "nbformat_minor": 0,
  "metadata": {
    "colab": {
      "name": "Simple-Three-Input_Neural-Network.ipynb",
      "provenance": [],
      "authorship_tag": "ABX9TyPTkqAE3u+hSRgYUOptfgbb",
      "include_colab_link": true
    },
    "kernelspec": {
      "name": "python3",
      "display_name": "Python 3"
    },
    "language_info": {
      "name": "python"
    }
  },
  "cells": [
    {
      "cell_type": "markdown",
      "metadata": {
        "id": "view-in-github",
        "colab_type": "text"
      },
      "source": [
        "<a href=\"https://colab.research.google.com/github/ElodynPixel/Simple-Neural-Network/blob/main/Simple_Three_Input_Neural_Network.ipynb\" target=\"_parent\"><img src=\"https://colab.research.google.com/assets/colab-badge.svg\" alt=\"Open In Colab\"/></a>"
      ]
    },
    {
      "cell_type": "code",
      "metadata": {
        "colab": {
          "base_uri": "https://localhost:8080/"
        },
        "id": "mDfZAsS3h1bK",
        "outputId": "8d255e40-03d4-44aa-c1ba-409ccc891e8e"
      },
      "source": [
        "pip install numpy"
      ],
      "execution_count": 1,
      "outputs": [
        {
          "output_type": "stream",
          "text": [
            "Requirement already satisfied: numpy in /usr/local/lib/python3.7/dist-packages (1.19.5)\n"
          ],
          "name": "stdout"
        }
      ]
    },
    {
      "cell_type": "code",
      "metadata": {
        "id": "dRUncqVwiNO3"
      },
      "source": [
        "import numpy as np"
      ],
      "execution_count": 3,
      "outputs": []
    },
    {
      "cell_type": "code",
      "metadata": {
        "id": "XeKMc9R7imLx"
      },
      "source": [
        "class NeuralNetwork():\n",
        "    \n",
        "    def __init__(self):\n",
        "        # Seed the random number generator\n",
        "        np.random.seed(1)\n",
        "        # Set synaptic weights to a 3x1 matrix, with values from -1 to 1 and mean 0\n",
        "        self.synaptic_weights = 2 * np.random.random((3, 1)) - 1\n",
        "\n",
        "    def sigmoid(self, x):\n",
        "        \"\"\"\n",
        "        Takes in weighted sum of the inputs and normalizes them through between 0 and 1 through a sigmoid function\n",
        "        \"\"\"\n",
        "        return 1 / (1 + np.exp(-x))\n",
        "\n",
        "    def sigmoid_derivative(self, y):\n",
        "        \"\"\"\n",
        "        The derivative of the sigmoid function used to calculate necessary weight adjustments\n",
        "        \"\"\"\n",
        "        return y * (1 - y)\n",
        "\n",
        "    def train(self, training_inputs, training_outputs, training_iterations):\n",
        "        \"\"\"\n",
        "        We train the model through trial and error, adjusting the\n",
        "        synaptic weights each time to get a better result\n",
        "        \"\"\"\n",
        "        for iteration in range(training_iterations):\n",
        "            # Pass training set through the neural network\n",
        "            output = self.think(training_inputs)\n",
        "\n",
        "            # Calculate the error rate\n",
        "            err = training_outputs - output\n",
        "\n",
        "            # Multiply error by input and gradient of the sigmoid function, Less confident weights are adjusted more through the nature of the function\n",
        "            adjustments = np.dot(training_inputs.T, err * self.sigmoid_derivative(output))\n",
        "\n",
        "            # Adjust synaptic weights\n",
        "            self.synaptic_weights += adjustments\n",
        "\n",
        "    def think(self, inputs):\n",
        "        \"\"\"\n",
        "        Pass inputs through the neural network to get output\n",
        "        \"\"\"\n",
        "        \n",
        "        inputs = inputs.astype(float)\n",
        "        output = self.sigmoid(np.dot(inputs, self.synaptic_weights))\n",
        "        return output\n",
        "\n",
        "\n"
      ],
      "execution_count": 4,
      "outputs": []
    },
    {
      "cell_type": "code",
      "metadata": {
        "colab": {
          "base_uri": "https://localhost:8080/"
        },
        "id": "MvfByPkfm20H",
        "outputId": "85797521-507c-4aac-c9bf-b5ae34fa5be3"
      },
      "source": [
        "if __name__ == \"__main__\":\n",
        "\n",
        "    # Initialize the single neuron neural network\n",
        "    neural_network = NeuralNetwork()\n",
        "\n",
        "    print(\"Random starting synaptic weights: \")\n",
        "    print(neural_network.synaptic_weights)\n",
        "\n",
        "    # The training set, with 4 examples consisting of 3\n",
        "    # input values and 1 output value\n",
        "    training_inputs = np.array([[0,0,1],\n",
        "                                [1,1,1],\n",
        "                                [1,0,1],\n",
        "                                [0,1,1]])\n",
        "\n",
        "    training_outputs = np.array([[0,1,1,0]]).T\n",
        "\n",
        "    # Train the neural network\n",
        "    neural_network.train(training_inputs, training_outputs, 10000)\n",
        "\n",
        "    print(\"Synaptic weights after training: \")\n",
        "    print(neural_network.synaptic_weights)\n",
        "\n",
        "    A = str(input(\"Input 1: \"))\n",
        "    B = str(input(\"Input 2: \"))\n",
        "    C = str(input(\"Input 3: \"))\n",
        "    \n",
        "    print(\"New situation: input data = \", A, B, C)\n",
        "    print(\"Output data: \")\n",
        "    print(neural_network.think(np.array([A, B, C])))"
      ],
      "execution_count": 8,
      "outputs": [
        {
          "output_type": "stream",
          "text": [
            "Random starting synaptic weights: \n",
            "[[-0.16595599]\n",
            " [ 0.44064899]\n",
            " [-0.99977125]]\n",
            "Synaptic weights after training: \n",
            "[[ 9.67299303]\n",
            " [-0.2078435 ]\n",
            " [-4.62963669]]\n",
            "Input 1: 1\n",
            "Input 2: 0\n",
            "Input 3: 0\n",
            "New situation: input data =  1 0 0\n",
            "Output data: \n",
            "[0.99993704]\n"
          ],
          "name": "stdout"
        }
      ]
    }
  ]
}